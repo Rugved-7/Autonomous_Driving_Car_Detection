{
  "nbformat": 4,
  "nbformat_minor": 0,
  "metadata": {
    "colab": {
      "provenance": [],
      "authorship_tag": "ABX9TyO90fODwAuk7C+2BgJoVkbq",
      "include_colab_link": true
    },
    "kernelspec": {
      "name": "python3",
      "display_name": "Python 3"
    },
    "language_info": {
      "name": "python"
    }
  },
  "cells": [
    {
      "cell_type": "markdown",
      "metadata": {
        "id": "view-in-github",
        "colab_type": "text"
      },
      "source": [
        "<a href=\"https://colab.research.google.com/github/Rugved-7/Autonomous_Driving_Car_Detection/blob/main/YOLO.ipynb\" target=\"_parent\"><img src=\"https://colab.research.google.com/assets/colab-badge.svg\" alt=\"Open In Colab\"/></a>"
      ]
    },
    {
      "cell_type": "code",
      "execution_count": null,
      "metadata": {
        "id": "SmgJ1rUZKAbx"
      },
      "outputs": [],
      "source": [
        "import argparse\n",
        "import os\n",
        "import matplotlib.pyplot as plt\n",
        "from matplotlib.pyplot import imshow\n",
        "import scipy.io\n",
        "import scipy.misc\n",
        "import numpy as np\n",
        "import pandas as pd\n",
        "import PIL\n",
        "from PIL import ImageFont, ImageDraw, Image\n",
        "import tensorflow as tf\n",
        "from tensorflow.python.framework.ops import EagerTensor\n",
        "\n",
        "from tensorflow.keras.models import load_model\n",
        "from yad2k.models.keras_yolo import yolo_head\n",
        "from yad2k.utils.utils import draw_boxes, get_colors_for_classes, scale_boxes, read_classes, read_anchors, preprocess_image\n",
        "\n",
        "%matplotlib inline"
      ]
    },
    {
      "cell_type": "code",
      "source": [
        "def yolo_filter_boxes(boxes, box_confidence, box_class_probs, threshold = .6):\n",
        "\n",
        "\n",
        "    box_scores = box_confidence*box_class_probs\n",
        "    box_classes = tf.math.argmax(box_scores,axis=-1)\n",
        "    box_class_scores = tf.math.reduce_max(box_scores,axis=-1)\n",
        "    filtering_mask = tf.math.greater_equal(box_class_scores,threshold)\n",
        "    scores = tf.boolean_mask(box_class_scores,filtering_mask,axis=None)\n",
        "    boxes = tf.boolean_mask(boxes,filtering_mask,axis=None)\n",
        "    classes = tf.boolean_mask(box_classes,filtering_mask,axis=None)\n",
        "\n",
        "    return scores, boxes, classes"
      ],
      "metadata": {
        "id": "A7vaNl_1KCxI"
      },
      "execution_count": null,
      "outputs": []
    },
    {
      "cell_type": "code",
      "source": [
        "\n",
        "tf.random.set_seed(10)\n",
        "box_confidence = tf.random.normal([19, 19, 5, 1], mean=1, stddev=4, seed = 1)\n",
        "boxes = tf.random.normal([19, 19, 5, 4], mean=1, stddev=4, seed = 1)\n",
        "box_class_probs = tf.random.normal([19, 19, 5, 80], mean=1, stddev=4, seed = 1)\n",
        "scores, boxes, classes = yolo_filter_boxes(boxes, box_confidence, box_class_probs, threshold = 0.5)\n",
        "print(\"scores[2] = \" + str(scores[2].numpy()))\n",
        "print(\"boxes[2] = \" + str(boxes[2].numpy()))\n",
        "print(\"classes[2] = \" + str(classes[2].numpy()))\n",
        "print(\"scores.shape = \" + str(scores.shape))\n",
        "print(\"boxes.shape = \" + str(boxes.shape))\n",
        "print(\"classes.shape = \" + str(classes.shape))\n",
        "\n",
        "assert type(scores) == EagerTensor, \"Use tensorflow functions\"\n",
        "assert type(boxes) == EagerTensor, \"Use tensorflow functions\"\n",
        "assert type(classes) == EagerTensor, \"Use tensorflow functions\"\n",
        "\n",
        "assert scores.shape == (1789,), \"Wrong shape in scores\"\n",
        "assert boxes.shape == (1789, 4), \"Wrong shape in boxes\"\n",
        "assert classes.shape == (1789,), \"Wrong shape in classes\"\n",
        "\n",
        "assert np.isclose(scores[2].numpy(), 9.270486), \"Values are wrong on scores\"\n",
        "assert np.allclose(boxes[2].numpy(), [4.6399336, 3.2303846, 4.431282, -2.202031]), \"Values are wrong on boxes\"\n",
        "assert classes[2].numpy() == 8, \"Values are wrong on classes\"\n",
        "\n",
        "print(\"\\033[92m All tests passed!\")\n"
      ],
      "metadata": {
        "id": "s4SHyEscKCuR"
      },
      "execution_count": null,
      "outputs": []
    },
    {
      "cell_type": "code",
      "source": [
        "def iou(box1, box2):\n",
        "\n",
        "    (box1_x1, box1_y1, box1_x2, box1_y2) = box1\n",
        "    (box2_x1, box2_y1, box2_x2, box2_y2) = box2\n",
        "\n",
        "\n",
        "    xi1 = max(box1_x1,box2_x1)\n",
        "    yi1 = max(box1_y1,box2_y1)\n",
        "    xi2 = min(box1_x2,box2_x2)\n",
        "    yi2 = min(box1_y2,box2_y2)\n",
        "    inter_width = max(xi2-xi1,0)\n",
        "    inter_height = max(yi2-yi1,0)\n",
        "    inter_area = max(inter_width*inter_height,0)\n",
        "\n",
        "\n",
        "    box1_area = (box1_x2-box1_x1)*(box1_y2-box1_y1)\n",
        "    box2_area = (box2_x2-box2_x1)*(box2_y2-box2_y1)\n",
        "    union_area = box1_area+box2_area-inter_area\n",
        "\n",
        "\n",
        "    iou = inter_area/union_area\n",
        ""
      ],
      "metadata": {
        "id": "XfjMcotOKCrr"
      },
      "execution_count": null,
      "outputs": []
    },
    {
      "cell_type": "code",
      "source": [
        "\n",
        "box1 = (2, 1, 4, 3)\n",
        "box2 = (1, 2, 3, 4)\n",
        "\n",
        "print(\"iou for intersecting boxes = \" + str(iou(box1, box2)))\n",
        "assert iou(box1, box2) < 1, \"The intersection area must be always smaller or equal than the union area.\"\n",
        "assert np.isclose(iou(box1, box2), 0.14285714), \"Wrong value. Check your implementation. Problem with intersecting boxes\"\n",
        "\n",
        "box1 = (1,2,3,4)\n",
        "box2 = (5,6,7,8)\n",
        "print(\"iou for non-intersecting boxes = \" + str(iou(box1,box2)))\n",
        "assert iou(box1, box2) == 0, \"Intersection must be 0\"\n",
        "\n",
        "box1 = (1,1,2,2)\n",
        "box2 = (2,2,3,3)\n",
        "print(\"iou for boxes that only touch at vertices = \" + str(iou(box1,box2)))\n",
        "assert iou(box1, box2) == 0, \"Intersection at vertices must be 0\"\n",
        "\n",
        "\n",
        "box1 = (1,1,3,3)\n",
        "box2 = (2,3,3,4)\n",
        "print(\"iou for boxes that only touch at edges = \" + str(iou(box1,box2)))\n",
        "assert iou(box1, box2) == 0, \"Intersection at edges must be 0\"\n",
        "\n",
        "print(\"\\033[92m All tests passed!\")\n"
      ],
      "metadata": {
        "id": "sDha9TMVKCpa"
      },
      "execution_count": null,
      "outputs": []
    },
    {
      "cell_type": "code",
      "source": [
        "def yolo_non_max_suppression(scores, boxes, classes, max_boxes = 10, iou_threshold = 0.5):\n",
        "    max_boxes_tensor = tf.Variable(max_boxes, dtype='int32')\n",
        "    nms_indices = tf.image.non_max_suppression(boxes,scores,max_boxes_tensor,iou_threshold=0.5)\n",
        "    scores = tf.gather(scores, nms_indices)\n",
        "    boxes = tf.gather(boxes, nms_indices)\n",
        "    classes = tf.gather(classes, nms_indices)\n",
        "\n",
        "    return scores, boxes, classes\n",
        "\n"
      ],
      "metadata": {
        "id": "411yAA8XKCnM"
      },
      "execution_count": null,
      "outputs": []
    },
    {
      "cell_type": "code",
      "source": [
        "tf.random.set_seed(10)\n",
        "scores = tf.random.normal([54,], mean=1, stddev=4, seed = 1)\n",
        "boxes = tf.random.normal([54, 4], mean=1, stddev=4, seed = 1)\n",
        "classes = tf.random.normal([54,], mean=1, stddev=4, seed = 1)\n",
        "scores, boxes, classes = yolo_non_max_suppression(scores, boxes, classes)\n",
        "\n",
        "assert type(scores) == EagerTensor, \"Use tensorflow functions\"\n",
        "print(\"scores[2] = \" + str(scores[2].numpy()))\n",
        "print(\"boxes[2] = \" + str(boxes[2].numpy()))\n",
        "print(\"classes[2] = \" + str(classes[2].numpy()))\n",
        "print(\"scores.shape = \" + str(scores.numpy().shape))\n",
        "print(\"boxes.shape = \" + str(boxes.numpy().shape))\n",
        "print(\"classes.shape = \" + str(classes.numpy().shape))\n",
        "\n",
        "assert type(scores) == EagerTensor, \"Use tensoflow functions\"\n",
        "assert type(boxes) == EagerTensor, \"Use tensoflow functions\"\n",
        "assert type(classes) == EagerTensor, \"Use tensoflow functions\"\n",
        "\n",
        "assert scores.shape == (10,), \"Wrong shape\"\n",
        "assert boxes.shape == (10, 4), \"Wrong shape\"\n",
        "assert classes.shape == (10,), \"Wrong shape\"\n",
        "\n",
        "assert np.isclose(scores[2].numpy(), 8.147684), \"Wrong value on scores\"\n",
        "assert np.allclose(boxes[2].numpy(), [ 6.0797963, 3.743308, 1.3914018, -0.34089637]), \"Wrong value on boxes\"\n",
        "assert np.isclose(classes[2].numpy(), 1.7079165), \"Wrong value on classes\"\n",
        "\n",
        "print(\"\\033[92m All tests passed!\")\n",
        "# END UNIT TEST"
      ],
      "metadata": {
        "id": "2ZOb2Z20KCk2"
      },
      "execution_count": null,
      "outputs": []
    },
    {
      "cell_type": "code",
      "source": [
        "def yolo_boxes_to_corners(box_xy, box_wh):\n",
        "    \"\"\"Convert YOLO box predictions to bounding box corners.\"\"\"\n",
        "    box_mins = box_xy - (box_wh / 2.)\n",
        "    box_maxes = box_xy + (box_wh / 2.)\n",
        "\n",
        "    return tf.keras.backend.concatenate([\n",
        "        box_mins[..., 1:2],  # y_min\n",
        "        box_mins[..., 0:1],  # x_min\n",
        "        box_maxes[..., 1:2],  # y_max\n",
        "        box_maxes[..., 0:1]  # x_max\n",
        "    ])\n"
      ],
      "metadata": {
        "id": "aDzAvkOCKCio"
      },
      "execution_count": null,
      "outputs": []
    },
    {
      "cell_type": "code",
      "source": [
        "def yolo_eval(yolo_outputs, image_shape = (720, 1280), max_boxes=10, score_threshold=.6, iou_threshold=.5):\n",
        "\n",
        "    box_xy, box_wh, box_confidence, box_class_probs = yolo_outputs\n",
        "    boxes = yolo_boxes_to_corners(box_xy, box_wh)\n",
        "    scores, boxes, classes = yolo_filter_boxes(boxes, box_confidence, box_class_probs, threshold = .6)\n",
        "    boxes = scale_boxes(boxes, image_shape)\n",
        "    scores, boxes, classes = yolo_non_max_suppression(scores, boxes, classes, max_boxes = 10, iou_threshold = 0.5)\n",
        "\n",
        "    return scores, boxes, classes"
      ],
      "metadata": {
        "id": "TyOrjAsYKCge"
      },
      "execution_count": null,
      "outputs": []
    },
    {
      "cell_type": "code",
      "source": [
        "tf.random.set_seed(10)\n",
        "yolo_outputs = (tf.random.normal([19, 19, 5, 2], mean=1, stddev=4, seed = 1),\n",
        "                tf.random.normal([19, 19, 5, 2], mean=1, stddev=4, seed = 1),\n",
        "                tf.random.normal([19, 19, 5, 1], mean=1, stddev=4, seed = 1),\n",
        "                tf.random.normal([19, 19, 5, 80], mean=1, stddev=4, seed = 1))\n",
        "scores, boxes, classes = yolo_eval(yolo_outputs)\n",
        "print(\"scores[2] = \" + str(scores[2].numpy()))\n",
        "print(\"boxes[2] = \" + str(boxes[2].numpy()))\n",
        "print(\"classes[2] = \" + str(classes[2].numpy()))\n",
        "print(\"scores.shape = \" + str(scores.numpy().shape))\n",
        "print(\"boxes.shape = \" + str(boxes.numpy().shape))\n",
        "print(\"classes.shape = \" + str(classes.numpy().shape))\n",
        "\n",
        "assert type(scores) == EagerTensor,\n",
        "assert type(boxes) == EagerTensor,\n",
        "assert type(classes) == EagerTensor,\n",
        "\n",
        "assert scores.shape == (10,),\n",
        "assert boxes.shape == (10, 4),\n",
        "assert classes.shape == (10,),\n",
        "\n",
        "assert np.isclose(scores[2].numpy(), 171.60194),\n",
        "assert np.allclose(boxes[2].numpy(), [-1240.3483, -3212.5881, -645.78, 2024.3052]),\n",
        "assert np.isclose(classes[2].numpy(), 16),\n",
        "\n",
        "print(\"\\033[92m All tests passed!\")\n"
      ],
      "metadata": {
        "id": "sFDHziEJKCdw"
      },
      "execution_count": null,
      "outputs": []
    },
    {
      "cell_type": "code",
      "source": [
        "class_names = read_classes(\"model_data/coco_classes.txt\")\n",
        "anchors = read_anchors(\"model_data/yolo_anchors.txt\")\n",
        "model_image_size = (608, 608) # Same as yolo_model input layer size"
      ],
      "metadata": {
        "id": "RCwqbArGKCbY"
      },
      "execution_count": null,
      "outputs": []
    },
    {
      "cell_type": "code",
      "source": [
        "yolo_model = load_model(\"model_data/\", compile=False)"
      ],
      "metadata": {
        "id": "VZL7rOTjKCZA"
      },
      "execution_count": null,
      "outputs": []
    },
    {
      "cell_type": "code",
      "source": [
        "yolo_model.summary()"
      ],
      "metadata": {
        "id": "6ps4dNxrKCWa"
      },
      "execution_count": null,
      "outputs": []
    },
    {
      "cell_type": "code",
      "source": [
        "def predict(image_file):\n",
        "    image, image_data = preprocess_image(\"images/\" + image_file, model_image_size = (608, 608))\n",
        "\n",
        "    yolo_model_outputs = yolo_model(image_data)\n",
        "    yolo_outputs = yolo_head(yolo_model_outputs, anchors, len(class_names))\n",
        "\n",
        "    out_scores, out_boxes, out_classes = yolo_eval(yolo_outputs, [image.size[1],  image.size[0]], 10, 0.3, 0.5)\n",
        "    print('Found {} boxes for {}'.format(len(out_boxes), \"images/\" + image_file))\n",
        "\n",
        "    colors = get_colors_for_classes(len(class_names))\n",
        "\n",
        "    draw_boxes(image, out_boxes, out_classes, class_names, out_scores)\n",
        "\n",
        "    image.save(os.path.join(\"out\", image_file), quality=100)\n",
        "\n",
        "    output_image = Image.open(os.path.join(\"out\", image_file))\n",
        "    imshow(output_image)\n",
        "\n",
        "    return out_scores, out_boxes, out_classes"
      ],
      "metadata": {
        "id": "QKTcmddwKCUs"
      },
      "execution_count": null,
      "outputs": []
    },
    {
      "cell_type": "code",
      "source": [
        "out_scores, out_boxes, out_classes = predict(\"test.jpg\")"
      ],
      "metadata": {
        "id": "oHWuXKvHKCRv"
      },
      "execution_count": null,
      "outputs": []
    },
    {
      "cell_type": "code",
      "source": [],
      "metadata": {
        "id": "chF1OlMTKCPc"
      },
      "execution_count": null,
      "outputs": []
    },
    {
      "cell_type": "code",
      "source": [],
      "metadata": {
        "id": "PxODbwPmKCNK"
      },
      "execution_count": null,
      "outputs": []
    },
    {
      "cell_type": "code",
      "source": [],
      "metadata": {
        "id": "2EU-UuqfKCLR"
      },
      "execution_count": null,
      "outputs": []
    },
    {
      "cell_type": "code",
      "source": [],
      "metadata": {
        "id": "HZiqncH7KCIk"
      },
      "execution_count": null,
      "outputs": []
    },
    {
      "cell_type": "code",
      "source": [],
      "metadata": {
        "id": "EcRZ6TcVKCGU"
      },
      "execution_count": null,
      "outputs": []
    }
  ]
}